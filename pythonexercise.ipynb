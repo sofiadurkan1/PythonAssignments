{
  "nbformat": 4,
  "nbformat_minor": 0,
  "metadata": {
    "colab": {
      "name": "pythonexercise.ipynb",
      "provenance": []
    },
    "kernelspec": {
      "name": "python3",
      "display_name": "Python 3"
    },
    "language_info": {
      "name": "python"
    }
  },
  "cells": [
    {
      "cell_type": "code",
      "metadata": {
        "id": "g2tQWdNJ4OgW"
      },
      "source": [
        "def front_back(word):\n",
        " if len(word)<2:\n",
        "     return word\n",
        " else:\n",
        "     return word[-1]+ word[1:-1]+word[0]\n",
        "print(front_back('clarusway'))\n",
        "print(front_back('a'))\n",
        "print(front_back('ab'))"
      ],
      "execution_count": null,
      "outputs": []
    }
  ]
}