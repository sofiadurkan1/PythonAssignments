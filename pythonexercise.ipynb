{
  "nbformat": 4,
  "nbformat_minor": 0,
  "metadata": {
    "colab": {
      "name": "pythonexercise.ipynb",
      "provenance": []
    },
    "kernelspec": {
      "name": "python394jvsc74a57bd0aee8b7b246df8f9039afb4144a1f6fd8d2ca17a180786b69acc140d282b71a49",
      "display_name": "Python 3.9.4 64-bit"
    },
    "language_info": {
      "name": "python",
      "version": "3.9.4"
    },
    "metadata": {
      "interpreter": {
        "hash": "aee8b7b246df8f9039afb4144a1f6fd8d2ca17a180786b69acc140d282b71a49"
      }
    }
  },
  "cells": [
    {
      "cell_type": "code",
      "metadata": {
        "id": "g2tQWdNJ4OgW"
      },
      "source": [
        "def front_back(word):\n",
        " if len(word)<2:\n",
        "     return word\n",
        " else:\n",
        "     return word[-1]+ word[1:-1]+word[0]\n",
        "print(front_back('clarusway'))\n",
        "print(front_back('a'))\n",
        "print(front_back('ab'))"
      ],
      "execution_count": 1,
      "outputs": [
        {
          "output_type": "stream",
          "name": "stdout",
          "text": [
            "ylaruswac\na\nba\n"
          ]
        }
      ]
    }
  ]
}