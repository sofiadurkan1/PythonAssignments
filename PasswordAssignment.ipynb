{
  "nbformat": 4,
  "nbformat_minor": 0,
  "metadata": {
    "colab": {
      "name": "Untitled9.ipynb",
      "provenance": []
    },
    "kernelspec": {
      "name": "python3",
      "display_name": "Python 3"
    },
    "language_info": {
      "name": "python"
    }
  },
  "cells": [
    {
      "cell_type": "code",
      "metadata": {
        "colab": {
          "base_uri": "https://localhost:8080/"
        },
        "id": "4tJb4__Imo9P",
        "outputId": "d646512b-aabd-40eb-f0c0-86208c0bd90e"
      },
      "source": [
        "valid_user = \"sofia\"\n",
        "\n",
        "user_input = input(\"Please enter your firstname : \")\n",
        "if valid_user == user_input.lower() :\n",
        "      print(\"Hello, \" + valid_user + \"! The password is : W@12  \")\n",
        "else :\n",
        "      print(\"Hello, \" + user_input + \"! See you later.\")"
      ],
      "execution_count": 1,
      "outputs": [
        {
          "output_type": "stream",
          "text": [
            "Please enter your firstname : sofia\n",
            "Hello, sofia! The password is : W@12  \n"
          ],
          "name": "stdout"
        }
      ]
    },
    {
      "cell_type": "code",
      "metadata": {
        "id": "UI3dRrhRm1GG"
      },
      "source": [
        ""
      ],
      "execution_count": null,
      "outputs": []
    }
  ]
}