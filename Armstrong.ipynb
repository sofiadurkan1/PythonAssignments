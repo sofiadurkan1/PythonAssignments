{
  "nbformat": 4,
  "nbformat_minor": 0,
  "metadata": {
    "colab": {
      "name": "ARMSTRONG.ipynb",
      "provenance": [],
      "collapsed_sections": []
    },
    "kernelspec": {
      "name": "python3",
      "display_name": "Python 3"
    },
    "language_info": {
      "name": "python"
    }
  },
  "cells": [
    {
      "cell_type": "code",
      "metadata": {
        "id": "V4d-4i4WMYHj"
      },
      "source": [
        "2s\n"
      ],
      "execution_count": null,
      "outputs": []
    },
    {
      "cell_type": "code",
      "metadata": {
        "colab": {
          "base_uri": "https://localhost:8080/"
        },
        "id": "r-5Eagi7MYcB",
        "outputId": "b9aa5d86-107a-41f2-ce0c-e18594e2ba1a"
      },
      "source": [
        "invalid_message = \"It is an invalid entry. Don't use non-numeric, float, or negative values!\"\n",
        "user_input = input(\"Enter a three digit number: \")\n",
        "sum = 0\n",
        "isValid = True\n",
        "numbers = '0123456789'\n",
        "for each_letter in user_input:\n",
        "  if each_letter in numbers:\n",
        "    sum = sum + int(each_letter)**3\n",
        "  else:\n",
        "    print(invalid_message)\n",
        "    isValid = False\n",
        "    break\n",
        "\n",
        "if str(sum)==user_input:\n",
        "  print(user_input + \" is an Armstrong number\")\n",
        "\n",
        "elif isValid:\n",
        "  print(user_input + \" is not an Armstrong number\")\n",
        "\n",
        "\n",
        "   \n",
        "\n",
        "\n",
        "  \n",
        "\n",
        "  \n",
        "\n"
      ],
      "execution_count": null,
      "outputs": [
        {
          "output_type": "stream",
          "text": [
            "Enter a three digit number: -23\n",
            "It is an invalid entry. Don't use non-numeric, float, or negative values!\n"
          ],
          "name": "stdout"
        }
      ]
    },
    {
      "cell_type": "code",
      "metadata": {
        "colab": {
          "base_uri": "https://localhost:8080/"
        },
        "id": "2c5K7x1fPdyf",
        "outputId": "c3781de2-4465-4b95-f350-5726b0c88846"
      },
      "source": [
        "invalid_message = \"It is an invalid entry. Don't use non-numeric, float, or negative values!\"\n",
        "user_input = input(\"Enter a three digit number: \")\n",
        "sum = 0\n",
        "isInvalid = False\n",
        "numbers = '0123456789'\n",
        "for each_letter in user_input:\n",
        "  if each_letter in numbers:\n",
        "    sum = sum + int(each_letter)**3\n",
        "  else:\n",
        "    isInvalid = True\n",
        "    break\n",
        "if isInvalid :\n",
        "  print(invalid_message)\n",
        "elif str(sum)==user_input:\n",
        "  print(user_input + \" is an Armstrong number\")\n",
        "\n",
        "else :\n",
        "  print(user_input + \" is not an Armstrong number\")\n"
      ],
      "execution_count": null,
      "outputs": [
        {
          "output_type": "stream",
          "text": [
            "Enter a three digit number: dad\n",
            "It is an invalid entry. Don't use non-numeric, float, or negative values!\n"
          ],
          "name": "stdout"
        }
      ]
    },
    {
      "cell_type": "code",
      "metadata": {
        "colab": {
          "base_uri": "https://localhost:8080/"
        },
        "id": "fSAroPBhrbG_",
        "outputId": "f330be25-c4ca-4c8d-e7bb-cf7a949a697e"
      },
      "source": [
        "sum = 0\n",
        "user_input = input(\"Enter a three digit number: \")\n",
        "if user_input.isdigit():\n",
        "  for each_letter in user_input:\n",
        "    sum = sum + int(each_letter)**3\n",
        "  if str(sum)==user_input:\n",
        "      print(user_input + \" is an Armstrong number\")\n",
        "  else :\n",
        "      print(user_input + \" is not an Armstrong number\")\n",
        "\n",
        "\n",
        "else:\n",
        "  print(\"It is an invalid entry. Don't use non-numeric, float, or negative values!\")\n",
        "   \n",
        "\n",
        "\n"
      ],
      "execution_count": null,
      "outputs": [
        {
          "output_type": "stream",
          "text": [
            "Enter a three digit number: 407\n",
            "407 is an Armstrong number\n"
          ],
          "name": "stdout"
        }
      ]
    }
  ]
}