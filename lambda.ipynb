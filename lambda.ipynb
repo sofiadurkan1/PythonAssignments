{
 "metadata": {
  "language_info": {
   "codemirror_mode": {
    "name": "ipython",
    "version": 3
   },
   "file_extension": ".py",
   "mimetype": "text/x-python",
   "name": "python",
   "nbconvert_exporter": "python",
   "pygments_lexer": "ipython3",
   "version": 3
  },
  "orig_nbformat": 2
 },
 "nbformat": 4,
 "nbformat_minor": 2,
 "cells": [
  {
   "cell_type": "code",
   "execution_count": null,
   "metadata": {},
   "outputs": [],
   "source": [
    "def functioner(n):\n",
    "    return lambda x : (x+n)\n",
    "print(functioner(\":)\")(\"hello\"))\n",
    "print(functioner(\":(\")(\"hello\"))\n",
    "print(functioner(\":|\")(\"hello\"))\n",
    "\n",
    "\n",
    "def repeater(n):\n",
    "    return lambda x: x * n\n",
    "repeat_2_times = repeater(2)  # repeats 2 times\n",
    "repeat_3_times = repeater(3)  # repeats 3 times\n",
    "repeat_4_times = repeater(4)  # repeats 4 times\n",
    "\n",
    "print(repeater(2)(\"alex \"))\n",
    "print(repeater(3)(\"lara \"))\n",
    "print(repeater(4)(\"linda \"))"
   ]
  }
 ]
}