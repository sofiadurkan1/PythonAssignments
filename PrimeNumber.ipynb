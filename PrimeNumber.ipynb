{
  "nbformat": 4,
  "nbformat_minor": 0,
  "metadata": {
    "colab": {
      "name": "PrimeNumber.ipynb",
      "provenance": [],
      "collapsed_sections": []
    },
    "kernelspec": {
      "name": "python3",
      "display_name": "Python 3"
    },
    "language_info": {
      "name": "python"
    }
  },
  "cells": [
    {
      "cell_type": "code",
      "metadata": {
        "colab": {
          "base_uri": "https://localhost:8080/"
        },
        "id": "f6cX8k-tFzmG",
        "outputId": "c384d5d4-a860-461a-850f-af6cd03ead2b"
      },
      "source": [
        "number = int(input(\"Please enter a number: \"))\n",
        "result = \" is a Prime Number\"\n",
        "if number < 2 :\n",
        "  result= \" is not a prime number\"\n",
        "for i in range(2,number):\n",
        "  if number % i ==0: \n",
        "     result = \" is not a prime number\"\n",
        "     break\n",
        "print(str(number) + result)\n",
        "\n",
        "\n"
      ],
      "execution_count": 18,
      "outputs": [
        {
          "output_type": "stream",
          "text": [
            "Please enter a number: -1\n",
            "-1 is not a prime number\n"
          ],
          "name": "stdout"
        }
      ]
    }
  ]
}